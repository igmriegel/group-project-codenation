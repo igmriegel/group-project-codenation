{
  "nbformat": 4,
  "nbformat_minor": 0,
  "metadata": {
    "colab": {
      "name": "Clusterização dos dados.ipynb",
      "provenance": [],
      "authorship_tag": "ABX9TyP7Au1UtyzE3GunDC6e2hE5",
      "include_colab_link": true
    },
    "kernelspec": {
      "name": "python3",
      "display_name": "Python 3"
    },
    "language_info": {
      "name": "python"
    }
  },
  "cells": [
    {
      "cell_type": "markdown",
      "metadata": {
        "id": "view-in-github",
        "colab_type": "text"
      },
      "source": [
        "<a href=\"https://colab.research.google.com/github/viniciusfranca019/group-project-codenation/blob/main/Clusteriza%C3%A7%C3%A3o_dos_dados.ipynb\" target=\"_parent\"><img src=\"https://colab.research.google.com/assets/colab-badge.svg\" alt=\"Open In Colab\"/></a>"
      ]
    },
    {
      "cell_type": "markdown",
      "source": [
        "# Clusterização dos dados do mercado"
      ],
      "metadata": {
        "id": "dUzYzPNbdwMv"
      }
    },
    {
      "cell_type": "code",
      "execution_count": null,
      "metadata": {
        "id": "X89aeS5FcdO7"
      },
      "outputs": [],
      "source": [
        "import pandas as pd\n",
        "import seaborn as sns\n",
        "import numpy as np\n",
        "import matplotlib.pyplot as plt \n",
        "from sklearn.cluster import KMeans\n",
        "from sklearn.model_selection import train_test_split\n",
        "sns.set_style('darkgrid')"
      ]
    },
    {
      "cell_type": "code",
      "source": [
        "df = pd.read_csv('penguins.csv').dropna()\n",
        "df.head()"
      ],
      "metadata": {
        "id": "3l_ovic0d7kZ"
      },
      "execution_count": null,
      "outputs": []
    },
    {
      "cell_type": "code",
      "source": [
        "g = sns.PairGrid(df)\n",
        "g.map(sns.scatterplot);"
      ],
      "metadata": {
        "id": "Ja7v2MdneFQT"
      },
      "execution_count": null,
      "outputs": []
    },
    {
      "cell_type": "code",
      "source": [
        "X = np.array(df.loc[:,['bill_length_mm',                # Choose your variable names\n",
        "                       'bill_depth_mm']])    \\\n",
        "                        .reshape(-1, 2)\n",
        "\n",
        "# Determine optimal cluster number with elbow method\n",
        "wcss = []\n",
        "\n",
        "for i in range(1, 11):\n",
        "    model = KMeans(n_clusters = i,     \n",
        "                    init = 'k-means++',                 # Initialization method for kmeans\n",
        "                    max_iter = 300,                     # Maximum number of iterations \n",
        "                    n_init = 10,                        # Choose how often algorithm will run with different centroid \n",
        "                    random_state = 0)                   # Choose random state for reproducibility\n",
        "    model.fit(X)                              \n",
        "    wcss.append(model.inertia_)\n",
        "    \n",
        "# Show Elbow plot\n",
        "plt.plot(range(1, 11), wcss)\n",
        "plt.title('Elbow Method')                               # Set plot title\n",
        "plt.xlabel('Number of clusters')                        # Set x axis name\n",
        "plt.ylabel('Within Cluster Sum of Squares (WCSS)')      # Set y axis name\n",
        "plt.show()\n"
      ],
      "metadata": {
        "id": "zInPw_9aeLLT"
      },
      "execution_count": null,
      "outputs": []
    },
    {
      "cell_type": "code",
      "source": [
        "kmeans = KMeans(n_clusters = 3,                 # Set amount of clusters\n",
        "                init = 'k-means++',             # Initialization method for kmeans\n",
        "                max_iter = 300,                 # Maximum number of iterations\n",
        "                n_init = 10,                    # Choose how often algorithm will run with different centroid\n",
        "                random_state = 0)               # Choose random state for reproducibility\n",
        "\n",
        "pred_y = kmeans.fit_predict(X)\n",
        "\n",
        "\n",
        "# Plot the data\n",
        "plt.scatter(X[:,0], \n",
        "            X[:,1])\n",
        "\n",
        "# Plot the clusters \n",
        "plt.scatter(kmeans.cluster_centers_[:, 0], \n",
        "            kmeans.cluster_centers_[:, 1], \n",
        "            s=200,                             # Set centroid size\n",
        "            c='red')                           # Set centroid color\n",
        "plt.show()"
      ],
      "metadata": {
        "id": "9SL9mx6BeMG6"
      },
      "execution_count": null,
      "outputs": []
    }
  ]
}