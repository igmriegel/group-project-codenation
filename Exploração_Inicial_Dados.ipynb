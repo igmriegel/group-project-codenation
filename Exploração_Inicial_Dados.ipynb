{
 "cells": [
  {
   "cell_type": "code",
   "execution_count": 19,
   "metadata": {},
   "outputs": [],
   "source": [
    "import pandas as pd"
   ]
  },
  {
   "cell_type": "code",
   "execution_count": 20,
   "metadata": {},
   "outputs": [],
   "source": [
    "portfolio_01 = pd.read_csv('arquivos_de_dados/estaticos_portfolio1.csv')\n",
    "portfolio_02 = pd.read_csv('arquivos_de_dados/estaticos_portfolio2.csv')\n",
    "portfolio_03 = pd.read_csv('arquivos_de_dados/estaticos_portfolio3.csv')\n",
    "\n",
    "estatisticas_market = pd.read_csv('arquivos_de_dados/estaticos_market.csv/estaticos_market.csv')"
   ]
  },
  {
   "cell_type": "code",
   "execution_count": 21,
   "metadata": {},
   "outputs": [
    {
     "name": "stdout",
     "output_type": "stream",
     "text": [
      "(555, 182)\n",
      "(462298, 182)\n",
      "(566, 2)\n",
      "(265, 2)\n"
     ]
    }
   ],
   "source": [
    "print(portfolio_01.shape)\n",
    "print(estatisticas_market.shape)\n",
    "print(portfolio_02.shape)\n",
    "print(portfolio_03.shape)"
   ]
  },
  {
   "cell_type": "code",
   "execution_count": 22,
   "metadata": {},
   "outputs": [
    {
     "name": "stdout",
     "output_type": "stream",
     "text": [
      "Index(['Unnamed: 0', 'id', 'fl_matriz', 'de_natureza_juridica', 'sg_uf',\n",
      "       'natureza_juridica_macro', 'de_ramo', 'setor', 'idade_empresa_anos',\n",
      "       'idade_emp_cat',\n",
      "       ...\n",
      "       'media_meses_servicos', 'max_meses_servicos', 'min_meses_servicos',\n",
      "       'qt_funcionarios', 'qt_funcionarios_12meses', 'qt_funcionarios_24meses',\n",
      "       'tx_crescimento_12meses', 'tx_crescimento_24meses', 'tx_rotatividade',\n",
      "       'qt_filiais'],\n",
      "      dtype='object', length=182)\n"
     ]
    }
   ],
   "source": [
    "print(estatisticas_market.columns)"
   ]
  },
  {
   "cell_type": "markdown",
   "metadata": {},
   "source": [
    "# Observação\n",
    "Observamos que os arquivos portfolio_01 e estatisticas_market possuem exatamente o mesmo set de 'feats' de dados."
   ]
  },
  {
   "cell_type": "code",
   "execution_count": 23,
   "metadata": {},
   "outputs": [
    {
     "data": {
      "text/plain": [
       "array([ True,  True,  True,  True,  True,  True,  True,  True,  True,\n",
       "        True,  True,  True,  True,  True,  True,  True,  True,  True,\n",
       "        True,  True,  True,  True,  True,  True,  True,  True,  True,\n",
       "        True,  True,  True,  True,  True,  True,  True,  True,  True,\n",
       "        True,  True,  True,  True,  True,  True,  True,  True,  True,\n",
       "        True,  True,  True,  True,  True,  True,  True,  True,  True,\n",
       "        True,  True,  True,  True,  True,  True,  True,  True,  True,\n",
       "        True,  True,  True,  True,  True,  True,  True,  True,  True,\n",
       "        True,  True,  True,  True,  True,  True,  True,  True,  True,\n",
       "        True,  True,  True,  True,  True,  True,  True,  True,  True,\n",
       "        True,  True,  True,  True,  True,  True,  True,  True,  True,\n",
       "        True,  True,  True,  True,  True,  True,  True,  True,  True,\n",
       "        True,  True,  True,  True,  True,  True,  True,  True,  True,\n",
       "        True,  True,  True,  True,  True,  True,  True,  True,  True,\n",
       "        True,  True,  True,  True,  True,  True,  True,  True,  True,\n",
       "        True,  True,  True,  True,  True,  True,  True,  True,  True,\n",
       "        True,  True,  True,  True,  True,  True,  True,  True,  True,\n",
       "        True,  True,  True,  True,  True,  True,  True,  True,  True,\n",
       "        True,  True,  True,  True,  True,  True,  True,  True,  True,\n",
       "        True,  True,  True,  True,  True,  True,  True,  True,  True,\n",
       "        True,  True])"
      ]
     },
     "execution_count": 23,
     "metadata": {},
     "output_type": "execute_result"
    }
   ],
   "source": [
    "portfolio_01.columns == estatisticas_market.columns"
   ]
  },
  {
   "cell_type": "markdown",
   "metadata": {},
   "source": [
    "# Teste para ver se o arquivo estatistica_market contem todos os ids dos outros arquivos."
   ]
  },
  {
   "cell_type": "code",
   "execution_count": 24,
   "metadata": {},
   "outputs": [
    {
     "name": "stdout",
     "output_type": "stream",
     "text": [
      "True True True\n"
     ]
    }
   ],
   "source": [
    "coluna_id_dados_market = estatisticas_market['id']\n",
    "ids_port_01 = portfolio_01['id']\n",
    "ids_port_02 = portfolio_02['id']\n",
    "ids_port_03 = portfolio_03['id']\n",
    "\n",
    "market_contains_01 = set(coluna_id_dados_market).issuperset({*ids_port_01})\n",
    "market_contains_02 = set(coluna_id_dados_market).issuperset({*ids_port_02})\n",
    "market_contains_03 = set(coluna_id_dados_market).issuperset({*ids_port_03})\n",
    "\n",
    "print(market_contains_01, market_contains_02, market_contains_03)"
   ]
  },
  {
   "cell_type": "markdown",
   "metadata": {},
   "source": [
    "Conferimos que o arquivo estatisticas_market contém todos os id que estão nos arquivos de porfolio."
   ]
  },
  {
   "cell_type": "code",
   "execution_count": null,
   "metadata": {},
   "outputs": [],
   "source": []
  }
 ],
 "metadata": {
  "interpreter": {
   "hash": "3913354c9e31cf5266291bd2ee93c11c6fecf1d74fca2b78dfa97ce019c2a609"
  },
  "kernelspec": {
   "display_name": "Python 3.9.7 ('aceleradev_ds')",
   "language": "python",
   "name": "python3"
  },
  "language_info": {
   "codemirror_mode": {
    "name": "ipython",
    "version": 3
   },
   "file_extension": ".py",
   "mimetype": "text/x-python",
   "name": "python",
   "nbconvert_exporter": "python",
   "pygments_lexer": "ipython3",
   "version": "3.9.7"
  },
  "orig_nbformat": 4
 },
 "nbformat": 4,
 "nbformat_minor": 2
}
